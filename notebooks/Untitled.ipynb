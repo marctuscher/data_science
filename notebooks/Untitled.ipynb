{
 "cells": [
  {
   "cell_type": "raw",
   "metadata": {},
   "source": [
    "Why Python?\n",
    "Python has become the lingua franca for many data science applications. It combines\n",
    "the power of general-purpose programming languages with the ease of use of\n",
    "domain-specific scripting languages like MATLAB or R. Python has libraries for data\n",
    "loading, visualization, statistics, natural language processing, image processing, and\n",
    "more. This vast toolbox provides data scientists with a large array of general- and\n",
    "special-purpose functionality. One of the main advantages of using Python is the abil‐\n",
    "ity to interact directly with the code, using a terminal or other tools like the Jupyter\n",
    "Notebook, which we’ll look at shortly. Machine learning and data analysis are funda‐\n",
    "mentally iterative processes, in which the data drives the analysis. It is essential for\n",
    "these processes to have tools that allow quick iteration and easy interaction.\n",
    "As a general-purpose programming language, Python also allows for the creation of\n",
    "complex graphical user interfaces (GUIs) and web services, and for integration into\n",
    "existing systems"
   ]
  },
  {
   "cell_type": "code",
   "execution_count": null,
   "metadata": {},
   "outputs": [],
   "source": []
  },
  {
   "cell_type": "code",
   "execution_count": null,
   "metadata": {
    "jupyter": {
     "source_hidden": true
    }
   },
   "outputs": [],
   "source": []
  }
 ],
 "metadata": {
  "kernelspec": {
   "display_name": "Python 3",
   "language": "python",
   "name": "python3"
  },
  "language_info": {
   "codemirror_mode": {
    "name": "ipython",
    "version": 3
   },
   "file_extension": ".py",
   "mimetype": "text/x-python",
   "name": "python",
   "nbconvert_exporter": "python",
   "pygments_lexer": "ipython3",
   "version": "3.6.8"
  }
 },
 "nbformat": 4,
 "nbformat_minor": 4
}
