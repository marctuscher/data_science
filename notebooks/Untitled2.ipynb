{
 "cells": [
  {
   "cell_type": "code",
   "execution_count": 36,
   "metadata": {},
   "outputs": [
    {
     "data": {
      "text/plain": [
       "'   Ridge regression is also a linear model for regression, so the formula it uses to make predictions is the same one used for ordinary least squares. In ridge regression, though, the coefficients (w) are chosen not only so that they predict well on the training data, but also to fit an additional constraint. We also want the magnitude of coefficients to be as small as possible; in other words, all entries of w should be close to zero. Intuitively, this means each feature should have as little effect on the outcome as possible (which translates to having a small slope), while still predicting well. This constraint is an example of what is called regularization. Regularization means explicitly restricting a model to avoid overfitting. The particular kind used by ridge regression is known as L2 regularization.7 Ridge regression is implemented in linear_model.Ridge. Let’s see how well it does on the extended Boston Housing dataset:    '"
      ]
     },
     "execution_count": 36,
     "metadata": {},
     "output_type": "execute_result"
    }
   ],
   "source": [
    "string = \"\"\"\n",
    "\n",
    "\n",
    "Ridge regression is also a linear model for regression, so the formula it uses to make\n",
    "predictions is the same one used for ordinary least squares. In ridge regression,\n",
    "though, the coefficients (w) are chosen not only so that they predict well on the training\n",
    "data, but also to fit an additional constraint. We also want the magnitude of coefficients\n",
    "to be as small as possible; in other words, all entries of w should be close to\n",
    "zero. Intuitively, this means each feature should have as little effect on the outcome as\n",
    "possible (which translates to having a small slope), while still predicting well. This\n",
    "constraint is an example of what is called regularization. Regularization means explicitly\n",
    "restricting a model to avoid overfitting. The particular kind used by ridge regression\n",
    "is known as L2 regularization.7\n",
    "Ridge regression is implemented in linear_model.Ridge. Let’s see how well it does\n",
    "on the extended Boston Housing dataset:\n",
    "\n",
    "\n",
    "\n",
    "\"\"\"\n",
    "string.replace(\"\\n\", \" \")\n",
    "#string.replace(\"  \", \" \")"
   ]
  },
  {
   "cell_type": "code",
   "execution_count": null,
   "metadata": {},
   "outputs": [],
   "source": []
  }
 ],
 "metadata": {
  "kernelspec": {
   "display_name": "Python 3",
   "language": "python",
   "name": "python3"
  },
  "language_info": {
   "codemirror_mode": {
    "name": "ipython",
    "version": 3
   },
   "file_extension": ".py",
   "mimetype": "text/x-python",
   "name": "python",
   "nbconvert_exporter": "python",
   "pygments_lexer": "ipython3",
   "version": "3.6.8"
  }
 },
 "nbformat": 4,
 "nbformat_minor": 2
}
